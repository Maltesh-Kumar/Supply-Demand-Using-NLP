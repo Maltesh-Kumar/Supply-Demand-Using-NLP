{
 "cells": [
  {
   "cell_type": "markdown",
   "metadata": {},
   "source": [
    "# CO-19 "
   ]
  },
  {
   "cell_type": "markdown",
   "metadata": {},
   "source": [
    "## Using NLP to determine, connect Demand & Supply during COVID pandemic"
   ]
  },
  {
   "cell_type": "markdown",
   "metadata": {},
   "source": [
    "### Main objective of this code was to analyze the data recorded from those who are willing to offer services during the pandemic and those who are willing to consume a perticular service but there isn't a dedicated platform in connecting the service providers with consumers"
   ]
  },
  {
   "cell_type": "code",
   "execution_count": 84,
   "metadata": {},
   "outputs": [
    {
     "data": {
      "text/html": [
       "<img src=\"https://1.bp.blogspot.com/-aw6dxrzR44c/XVWjVZnANUI/AAAAAAAANwU/O8QFnX6lPawuEirvd1IVC-fGf9r2dkFCQCLcBGAs/s1600/cosine_tutorial.png\"/>"
      ],
      "text/plain": [
       "<IPython.core.display.Image object>"
      ]
     },
     "execution_count": 84,
     "metadata": {},
     "output_type": "execute_result"
    }
   ],
   "source": [
    "from IPython.display import Image\n",
    "from IPython.core.display import HTML \n",
    "Image(url= \"https://1.bp.blogspot.com/-aw6dxrzR44c/XVWjVZnANUI/AAAAAAAANwU/O8QFnX6lPawuEirvd1IVC-fGf9r2dkFCQCLcBGAs/s1600/cosine_tutorial.png\")"
   ]
  },
  {
   "cell_type": "code",
   "execution_count": 85,
   "metadata": {},
   "outputs": [
    {
     "data": {
      "text/html": [
       "<img src=\"https://www.machinelearningplus.com/wp-content/uploads/2018/10/soft-cosine.png\"/>"
      ],
      "text/plain": [
       "<IPython.core.display.Image object>"
      ]
     },
     "execution_count": 85,
     "metadata": {},
     "output_type": "execute_result"
    }
   ],
   "source": [
    "from IPython.display import Image\n",
    "from IPython.core.display import HTML \n",
    "Image(url= \"https://www.machinelearningplus.com/wp-content/uploads/2018/10/soft-cosine.png\")"
   ]
  },
  {
   "cell_type": "markdown",
   "metadata": {},
   "source": [
    "### Importing Libraries"
   ]
  },
  {
   "cell_type": "code",
   "execution_count": 1,
   "metadata": {},
   "outputs": [],
   "source": [
    "import pandas as pd\n",
    "import numpy as np\n",
    "import warnings\n",
    "warnings.filterwarnings('ignore')"
   ]
  },
  {
   "cell_type": "code",
   "execution_count": 2,
   "metadata": {},
   "outputs": [],
   "source": [
    "demand = pd.read_excel('demand.xlsx')\n",
    "supply = pd.read_excel('supply.xlsx')"
   ]
  },
  {
   "cell_type": "markdown",
   "metadata": {},
   "source": [
    "### Using Tfidf Vectorizer "
   ]
  },
  {
   "cell_type": "code",
   "execution_count": 3,
   "metadata": {},
   "outputs": [
    {
     "name": "stderr",
     "output_type": "stream",
     "text": [
      "[nltk_data] Downloading package punkt to /home/maltesh/nltk_data...\n",
      "[nltk_data]   Package punkt is already up-to-date!\n"
     ]
    }
   ],
   "source": [
    "import nltk, string\n",
    "from sklearn.feature_extraction.text import TfidfVectorizer\n",
    "nltk.download('punkt') # if necessary...\n",
    "stemmer = nltk.stem.porter.PorterStemmer()\n",
    "remove_punctuation_map = dict((ord(char), None) for char in string.punctuation)"
   ]
  },
  {
   "cell_type": "code",
   "execution_count": 4,
   "metadata": {},
   "outputs": [],
   "source": [
    "def stem_tokens(tokens):\n",
    "    return [stemmer.stem(item) for item in tokens]"
   ]
  },
  {
   "cell_type": "code",
   "execution_count": 5,
   "metadata": {},
   "outputs": [],
   "source": [
    "'''remove punctuation, lowercase, stem'''\n",
    "def normalize(text):\n",
    "    return stem_tokens(nltk.word_tokenize(text.lower().translate(remove_punctuation_map)))"
   ]
  },
  {
   "cell_type": "code",
   "execution_count": 6,
   "metadata": {},
   "outputs": [],
   "source": [
    "vectorizer = TfidfVectorizer(tokenizer=normalize, stop_words='english')"
   ]
  },
  {
   "cell_type": "code",
   "execution_count": 7,
   "metadata": {},
   "outputs": [],
   "source": [
    "def cosine_sim(text1, text2):\n",
    "    tfidf = vectorizer.fit_transform([text1, text2])\n",
    "    return ((tfidf * tfidf.T).A)[0,1]"
   ]
  },
  {
   "cell_type": "markdown",
   "metadata": {},
   "source": [
    "### Overview of data"
   ]
  },
  {
   "cell_type": "code",
   "execution_count": 8,
   "metadata": {},
   "outputs": [
    {
     "data": {
      "text/html": [
       "<div>\n",
       "<style scoped>\n",
       "    .dataframe tbody tr th:only-of-type {\n",
       "        vertical-align: middle;\n",
       "    }\n",
       "\n",
       "    .dataframe tbody tr th {\n",
       "        vertical-align: top;\n",
       "    }\n",
       "\n",
       "    .dataframe thead th {\n",
       "        text-align: right;\n",
       "    }\n",
       "</style>\n",
       "<table border=\"1\" class=\"dataframe\">\n",
       "  <thead>\n",
       "    <tr style=\"text-align: right;\">\n",
       "      <th></th>\n",
       "      <th>demand</th>\n",
       "      <th>date</th>\n",
       "      <th>category</th>\n",
       "      <th>severity</th>\n",
       "      <th>like</th>\n",
       "      <th>location</th>\n",
       "    </tr>\n",
       "  </thead>\n",
       "  <tbody>\n",
       "    <tr>\n",
       "      <th>0</th>\n",
       "      <td>sanitizers are empty so can someone help me kn...</td>\n",
       "      <td>2020-01-11</td>\n",
       "      <td>Grocery</td>\n",
       "      <td>High</td>\n",
       "      <td>5</td>\n",
       "      <td>JP NAGAR 5</td>\n",
       "    </tr>\n",
       "    <tr>\n",
       "      <th>1</th>\n",
       "      <td>are groceries running out in jp nagar 3th phase</td>\n",
       "      <td>2020-03-30</td>\n",
       "      <td>Grocery</td>\n",
       "      <td>Medium</td>\n",
       "      <td>8</td>\n",
       "      <td>JP NAGAR 3</td>\n",
       "    </tr>\n",
       "    <tr>\n",
       "      <th>2</th>\n",
       "      <td>where do I get fresh fruits and vegetables in ...</td>\n",
       "      <td>2020-03-20</td>\n",
       "      <td>Grocery</td>\n",
       "      <td>Medium</td>\n",
       "      <td>9</td>\n",
       "      <td>JP NAGAR</td>\n",
       "    </tr>\n",
       "    <tr>\n",
       "      <th>3</th>\n",
       "      <td>is it safe to buy and eat chicken</td>\n",
       "      <td>2020-01-03</td>\n",
       "      <td>Grocery</td>\n",
       "      <td>Low</td>\n",
       "      <td>3</td>\n",
       "      <td>JP NAGAR 1</td>\n",
       "    </tr>\n",
       "    <tr>\n",
       "      <th>4</th>\n",
       "      <td>where can I get rice bag in jp nagar 5th phasse</td>\n",
       "      <td>2020-01-05</td>\n",
       "      <td>Grocery</td>\n",
       "      <td>High</td>\n",
       "      <td>2</td>\n",
       "      <td>JP NAGAR 5</td>\n",
       "    </tr>\n",
       "  </tbody>\n",
       "</table>\n",
       "</div>"
      ],
      "text/plain": [
       "                                              demand        date category  \\\n",
       "0  sanitizers are empty so can someone help me kn...  2020-01-11  Grocery   \n",
       "1    are groceries running out in jp nagar 3th phase  2020-03-30  Grocery   \n",
       "2  where do I get fresh fruits and vegetables in ...  2020-03-20  Grocery   \n",
       "3                 is it safe to buy and eat chicken   2020-01-03  Grocery   \n",
       "4    where can I get rice bag in jp nagar 5th phasse  2020-01-05  Grocery   \n",
       "\n",
       "  severity  like    location  \n",
       "0    High      5  JP NAGAR 5  \n",
       "1   Medium     8  JP NAGAR 3  \n",
       "2   Medium     9    JP NAGAR  \n",
       "3      Low     3  JP NAGAR 1  \n",
       "4    High      2  JP NAGAR 5  "
      ]
     },
     "execution_count": 8,
     "metadata": {},
     "output_type": "execute_result"
    }
   ],
   "source": [
    "demand.head()"
   ]
  },
  {
   "cell_type": "code",
   "execution_count": 9,
   "metadata": {},
   "outputs": [
    {
     "data": {
      "text/html": [
       "<div>\n",
       "<style scoped>\n",
       "    .dataframe tbody tr th:only-of-type {\n",
       "        vertical-align: middle;\n",
       "    }\n",
       "\n",
       "    .dataframe tbody tr th {\n",
       "        vertical-align: top;\n",
       "    }\n",
       "\n",
       "    .dataframe thead th {\n",
       "        text-align: right;\n",
       "    }\n",
       "</style>\n",
       "<table border=\"1\" class=\"dataframe\">\n",
       "  <thead>\n",
       "    <tr style=\"text-align: right;\">\n",
       "      <th></th>\n",
       "      <th>supply</th>\n",
       "      <th>date</th>\n",
       "      <th>category</th>\n",
       "      <th>like</th>\n",
       "      <th>location</th>\n",
       "    </tr>\n",
       "  </thead>\n",
       "  <tbody>\n",
       "    <tr>\n",
       "      <th>0</th>\n",
       "      <td>Free grocery supply delivery to home call 9845...</td>\n",
       "      <td>2020-03-24</td>\n",
       "      <td>Grocery</td>\n",
       "      <td>5</td>\n",
       "      <td>JP NAGAR 5</td>\n",
       "    </tr>\n",
       "    <tr>\n",
       "      <th>1</th>\n",
       "      <td>Fruits and vegetables avaiable at BTM Bank</td>\n",
       "      <td>2020-03-27</td>\n",
       "      <td>Grocery</td>\n",
       "      <td>8</td>\n",
       "      <td>BTM 2</td>\n",
       "    </tr>\n",
       "    <tr>\n",
       "      <th>2</th>\n",
       "      <td>Milk supply avaiable at RR Nagar Bus stop from...</td>\n",
       "      <td>2020-01-25</td>\n",
       "      <td>Grocery</td>\n",
       "      <td>9</td>\n",
       "      <td>RR Nagar</td>\n",
       "    </tr>\n",
       "    <tr>\n",
       "      <th>3</th>\n",
       "      <td>Hypermarket open at silkboard sector 1</td>\n",
       "      <td>2020-01-16</td>\n",
       "      <td>Grocery</td>\n",
       "      <td>3</td>\n",
       "      <td>SILK BOARD</td>\n",
       "    </tr>\n",
       "    <tr>\n",
       "      <th>4</th>\n",
       "      <td>Free food for needy between 1-4pm lunch</td>\n",
       "      <td>2020-03-25</td>\n",
       "      <td>Grocery</td>\n",
       "      <td>2</td>\n",
       "      <td>JP NAGAR 1</td>\n",
       "    </tr>\n",
       "  </tbody>\n",
       "</table>\n",
       "</div>"
      ],
      "text/plain": [
       "                                              supply        date category  \\\n",
       "0  Free grocery supply delivery to home call 9845...  2020-03-24  Grocery   \n",
       "1         Fruits and vegetables avaiable at BTM Bank  2020-03-27  Grocery   \n",
       "2  Milk supply avaiable at RR Nagar Bus stop from...  2020-01-25  Grocery   \n",
       "3            Hypermarket open at silkboard sector 1   2020-01-16  Grocery   \n",
       "4            Free food for needy between 1-4pm lunch  2020-03-25  Grocery   \n",
       "\n",
       "   like    location  \n",
       "0     5  JP NAGAR 5  \n",
       "1     8       BTM 2  \n",
       "2     9    RR Nagar  \n",
       "3     3  SILK BOARD  \n",
       "4     2  JP NAGAR 1  "
      ]
     },
     "execution_count": 9,
     "metadata": {},
     "output_type": "execute_result"
    }
   ],
   "source": [
    "supply.head()"
   ]
  },
  {
   "cell_type": "code",
   "execution_count": 10,
   "metadata": {},
   "outputs": [],
   "source": [
    "demand = pd.DataFrame(demand)\n",
    "supply = pd.DataFrame(supply)"
   ]
  },
  {
   "cell_type": "markdown",
   "metadata": {},
   "source": [
    "## User defined input asking the service needed along with location"
   ]
  },
  {
   "cell_type": "code",
   "execution_count": 11,
   "metadata": {},
   "outputs": [],
   "source": [
    "my_demand = \"does anyone know about grocery that can home deliver at jp nagar\" "
   ]
  },
  {
   "cell_type": "code",
   "execution_count": 12,
   "metadata": {},
   "outputs": [],
   "source": [
    "my_location = 'JP NAGAR'"
   ]
  },
  {
   "cell_type": "code",
   "execution_count": 13,
   "metadata": {},
   "outputs": [
    {
     "name": "stdout",
     "output_type": "stream",
     "text": [
      "Sentence =  does anyone know about grocery that can home deliver at jp nagar\n",
      "\n"
     ]
    }
   ],
   "source": [
    "data = {}\n",
    "senetnces = []\n",
    "if my_demand:\n",
    "    print(\"Sentence = \",my_demand)\n",
    "    print()\n",
    "    for i in range(0,len(supply.supply)):\n",
    "        data[supply.supply[i]] = cosine_sim(my_demand,supply.supply[i])\n",
    "import operator\n",
    "sorted_d = dict(sorted(data.items(), key=operator.itemgetter(1),reverse=True))"
   ]
  },
  {
   "cell_type": "markdown",
   "metadata": {},
   "source": [
    "### Cosine similarity with probability ranging from 0 - 1 \n",
    "### 0 - Least Match\n",
    "### 1 - Best Match"
   ]
  },
  {
   "cell_type": "code",
   "execution_count": 14,
   "metadata": {},
   "outputs": [
    {
     "data": {
      "text/plain": [
       "{'sanitizers and daily grocery avaiable at hyper store jp nagar ': 0.2329796548048752,\n",
       " 'Free grocery supply delivery to home call 984589891': 0.1707761131901165,\n",
       " 'Ups services avaiable at JP Nagar 5th phase': 0.1707761131901165,\n",
       " 'Public food shelter avaiable at JP Nagar 7th phase near Yelchanaalli': 0.12735952979479354,\n",
       " 'Free food delivery to home call 984589891': 0.08704446792504215,\n",
       " 'Milk supply avaiable at RR Nagar Bus stop from 5-11am': 0.06744304769296745,\n",
       " 'Mineral water service avaiable with home delivery of water cans': 0.06335481222196539,\n",
       " 'Fruits and vegetables avaiable at BTM Bank': 0.0,\n",
       " 'Hypermarket open at silkboard sector 1 ': 0.0,\n",
       " 'Free food for needy between 1-4pm lunch': 0.0,\n",
       " 'madiwala market open for fresh vegetables and fruits from 5-9am': 0.0,\n",
       " 'Call this number for wifi connection 98745631': 0.0,\n",
       " 'I can help those who want to learn AI': 0.0,\n",
       " 'Xerox service avaible from 9-2pm': 0.0,\n",
       " 'Ambulance services avaiable for free': 0.0,\n",
       " 'Free masks and sanitizers give off at apollo pharmacy': 0.0,\n",
       " 'Protective essentials avaible at maruthi medical shop ': 0.0,\n",
       " 'Buses to KR Market is plying on jayanagar route': 0.0,\n",
       " 'I’m offering free cab services IN e-city for commute': 0.0,\n",
       " 'Hardware shop open and will run from 1-3pm': 0.0,\n",
       " 'Maria hypermarket free delivery between 10 – 6 kanakapura road': 0.0,\n",
       " 'Sports equipments like carrom board, chess etc are avaiable please call 072599 68696': 0.0}"
      ]
     },
     "execution_count": 14,
     "metadata": {},
     "output_type": "execute_result"
    }
   ],
   "source": [
    "sorted_d"
   ]
  },
  {
   "cell_type": "markdown",
   "metadata": {},
   "source": [
    "### Threshold of 0.1 i.e 10%, any service that matched the demand >10% is notified to user"
   ]
  },
  {
   "cell_type": "code",
   "execution_count": 15,
   "metadata": {},
   "outputs": [],
   "source": [
    "threshold = 0.1\n",
    "sentences = []"
   ]
  },
  {
   "cell_type": "code",
   "execution_count": 16,
   "metadata": {},
   "outputs": [],
   "source": [
    "for i in sorted_d.items():\n",
    "    if i[1] > threshold:\n",
    "        sentences.append(i[0])"
   ]
  },
  {
   "cell_type": "code",
   "execution_count": 17,
   "metadata": {},
   "outputs": [
    {
     "data": {
      "text/plain": [
       "['sanitizers and daily grocery avaiable at hyper store jp nagar ',\n",
       " 'Free grocery supply delivery to home call 984589891',\n",
       " 'Ups services avaiable at JP Nagar 5th phase',\n",
       " 'Public food shelter avaiable at JP Nagar 7th phase near Yelchanaalli']"
      ]
     },
     "execution_count": 17,
     "metadata": {},
     "output_type": "execute_result"
    }
   ],
   "source": [
    "sentences"
   ]
  },
  {
   "cell_type": "code",
   "execution_count": 18,
   "metadata": {},
   "outputs": [],
   "source": [
    "s_rows = []\n",
    "for i in range(len(supply)):\n",
    "    if supply.iloc[i]['supply'] in sentences:\n",
    "        s_rows.append(i)\n",
    "    elif supply.iloc[i]['location'] in my_location:\n",
    "        s_rows.append(i)"
   ]
  },
  {
   "cell_type": "code",
   "execution_count": 19,
   "metadata": {},
   "outputs": [],
   "source": [
    "final_d = supply.iloc[s_rows]"
   ]
  },
  {
   "cell_type": "code",
   "execution_count": 20,
   "metadata": {},
   "outputs": [
    {
     "data": {
      "text/html": [
       "<div>\n",
       "<style scoped>\n",
       "    .dataframe tbody tr th:only-of-type {\n",
       "        vertical-align: middle;\n",
       "    }\n",
       "\n",
       "    .dataframe tbody tr th {\n",
       "        vertical-align: top;\n",
       "    }\n",
       "\n",
       "    .dataframe thead th {\n",
       "        text-align: right;\n",
       "    }\n",
       "</style>\n",
       "<table border=\"1\" class=\"dataframe\">\n",
       "  <thead>\n",
       "    <tr style=\"text-align: right;\">\n",
       "      <th></th>\n",
       "      <th>supply</th>\n",
       "      <th>date</th>\n",
       "      <th>category</th>\n",
       "      <th>like</th>\n",
       "      <th>location</th>\n",
       "    </tr>\n",
       "  </thead>\n",
       "  <tbody>\n",
       "    <tr>\n",
       "      <th>0</th>\n",
       "      <td>Free grocery supply delivery to home call 9845...</td>\n",
       "      <td>2020-03-24</td>\n",
       "      <td>Grocery</td>\n",
       "      <td>5</td>\n",
       "      <td>JP NAGAR 5</td>\n",
       "    </tr>\n",
       "    <tr>\n",
       "      <th>5</th>\n",
       "      <td>sanitizers and daily grocery avaiable at hyper...</td>\n",
       "      <td>2020-03-30</td>\n",
       "      <td>Grocery</td>\n",
       "      <td>4</td>\n",
       "      <td>JP NAGAR 5</td>\n",
       "    </tr>\n",
       "    <tr>\n",
       "      <th>20</th>\n",
       "      <td>Ups services avaiable at JP Nagar 5th phase</td>\n",
       "      <td>2020-03-27</td>\n",
       "      <td>Other</td>\n",
       "      <td>0</td>\n",
       "      <td>JP NAGAR 5</td>\n",
       "    </tr>\n",
       "    <tr>\n",
       "      <th>21</th>\n",
       "      <td>Public food shelter avaiable at JP Nagar 7th p...</td>\n",
       "      <td>2020-03-10</td>\n",
       "      <td>Grocery</td>\n",
       "      <td>3</td>\n",
       "      <td>JP NAGAR 7</td>\n",
       "    </tr>\n",
       "  </tbody>\n",
       "</table>\n",
       "</div>"
      ],
      "text/plain": [
       "                                               supply        date category  \\\n",
       "0   Free grocery supply delivery to home call 9845...  2020-03-24  Grocery   \n",
       "5   sanitizers and daily grocery avaiable at hyper...  2020-03-30  Grocery   \n",
       "20        Ups services avaiable at JP Nagar 5th phase  2020-03-27    Other   \n",
       "21  Public food shelter avaiable at JP Nagar 7th p...  2020-03-10  Grocery   \n",
       "\n",
       "    like    location  \n",
       "0      5  JP NAGAR 5  \n",
       "5      4  JP NAGAR 5  \n",
       "20     0  JP NAGAR 5  \n",
       "21     3  JP NAGAR 7  "
      ]
     },
     "execution_count": 20,
     "metadata": {},
     "output_type": "execute_result"
    }
   ],
   "source": [
    "final_d"
   ]
  },
  {
   "cell_type": "code",
   "execution_count": 21,
   "metadata": {},
   "outputs": [
    {
     "name": "stdout",
     "output_type": "stream",
     "text": [
      "Here are the supplies that might help your demand.......\n",
      "Asked for =  does anyone know about grocery that can home deliver at jp nagar\n",
      "\n",
      "\n",
      "Supply =  Free grocery supply delivery to home call 984589891\n",
      "Location =  JP NAGAR 5\n",
      "Date Posted =  2020-03-24\n",
      "\n",
      "\n",
      "Supply =  sanitizers and daily grocery avaiable at hyper store jp nagar \n",
      "Location =  JP NAGAR 5\n",
      "Date Posted =  2020-03-30\n",
      "\n",
      "\n",
      "Supply =  Ups services avaiable at JP Nagar 5th phase\n",
      "Location =  JP NAGAR 5\n",
      "Date Posted =  2020-03-27\n",
      "\n",
      "\n",
      "Supply =  Public food shelter avaiable at JP Nagar 7th phase near Yelchanaalli\n",
      "Location =  JP NAGAR 7\n",
      "Date Posted =  2020-03-10\n",
      "\n",
      "\n"
     ]
    }
   ],
   "source": [
    "print(\"Here are the supplies that might help your demand.......\")\n",
    "print(\"Asked for = \",my_demand)\n",
    "print()\n",
    "print()\n",
    "result = []\n",
    "for i in range(len(final_d)):\n",
    "    result.append({\"Supply\":final_d.iloc[i]['supply'],\"Location\":final_d.iloc[i]['location'],\"Date Posted\":final_d.iloc[i]['date']})\n",
    "    print(\"Supply = \",final_d.iloc[i]['supply'])\n",
    "    print(\"Location = \",final_d.iloc[i]['location'])\n",
    "    print(\"Date Posted = \",final_d.iloc[i]['date'])\n",
    "    print()\n",
    "    print()"
   ]
  },
  {
   "cell_type": "markdown",
   "metadata": {},
   "source": [
    "### This is the output that matches with the input demand and following services are shown to a user"
   ]
  },
  {
   "cell_type": "code",
   "execution_count": null,
   "metadata": {},
   "outputs": [],
   "source": []
  },
  {
   "cell_type": "code",
   "execution_count": null,
   "metadata": {},
   "outputs": [],
   "source": []
  }
 ],
 "metadata": {
  "kernelspec": {
   "display_name": "Python 3",
   "language": "python",
   "name": "python3"
  },
  "language_info": {
   "codemirror_mode": {
    "name": "ipython",
    "version": 3
   },
   "file_extension": ".py",
   "mimetype": "text/x-python",
   "name": "python",
   "nbconvert_exporter": "python",
   "pygments_lexer": "ipython3",
   "version": "3.7.6"
  }
 },
 "nbformat": 4,
 "nbformat_minor": 4
}
